{
 "cells": [
  {
   "cell_type": "code",
   "execution_count": 118,
   "id": "adjustable-mixture",
   "metadata": {},
   "outputs": [],
   "source": [
    "import pandas as pd\n",
    "import numpy as np\n",
    "data = pd.read_csv('./data/data_earthquake.csv',low_memory = False)\n",
    "data.drop(np.arange(0,10), axis = 0,inplace = True)\n",
    "data.columns = ['NUM','YEAR','MONTH','DATE','UTC','IST','MW','Mw','MB','Mb','MS','ML','LAT','LONG','DEPTH','NLOCATION1','NLOCATION2','NLOCATION3','LOCATION','REF']\n",
    "data.drop(['NUM','UTC','IST','MW','MB','Mb','MS','ML','NLOCATION1','NLOCATION2','NLOCATION3','LOCATION'],axis = 1, inplace = True)\n",
    "data['YEAR'].fillna(0)\n",
    "data['MONTH'].fillna(0)\n",
    "data['DATE'].fillna(0)\n",
    "data['DEPTH'].fillna(0)\n",
    "temp = pd.to_numeric(data.YEAR.astype(str).str.replace(',',''), errors='coerce').fillna(0).astype(int)\n",
    "data['YEAR'] = temp\n",
    "temp = pd.to_numeric(data.MONTH.astype(str).str.replace(',',''), errors='coerce').fillna(0).astype(int)\n",
    "data['MONTH'] = temp\n",
    "temp = pd.to_numeric(data.DATE.astype(str).str.replace(',',''), errors='coerce').fillna(0).astype(int)\n",
    "data['DATE'] = temp\n",
    "temp = pd.to_numeric(data.DEPTH.astype(str).str.replace(',',''), errors='coerce').fillna(0).astype(int)\n",
    "data['DEPTH'] = temp\n",
    "\n",
    "data['REF'].fillna('NONE',inplace = True)\n",
    "\n",
    "# all_loc = pd.notnull(data['LOCATION'])\n",
    "all_lat = pd.notnull(data['LAT'])\n",
    "all_long = pd.notnull(data['LONG'])\n",
    "data_avail = pd.notnull(data['Mw'])\n",
    "\n",
    "all_lat_long = all_lat & all_long\n",
    "to_be_considered = all_lat_long & data_avail\n",
    "data = data[to_be_considered]\n",
    "\n",
    "data['Mw'].fillna('0',inplace=True)"
   ]
  },
  {
   "cell_type": "code",
   "execution_count": 119,
   "id": "female-indication",
   "metadata": {},
   "outputs": [
    {
     "data": {
      "text/plain": [
       "YEAR      int64\n",
       "MONTH     int64\n",
       "DATE      int64\n",
       "Mw       object\n",
       "LAT      object\n",
       "LONG     object\n",
       "DEPTH     int64\n",
       "REF      object\n",
       "dtype: object"
      ]
     },
     "execution_count": 119,
     "metadata": {},
     "output_type": "execute_result"
    }
   ],
   "source": [
    "data.index = np.arange(0,50485)\n",
    "data.dtypes"
   ]
  },
  {
   "cell_type": "code",
   "execution_count": 120,
   "id": "infinite-combining",
   "metadata": {},
   "outputs": [
    {
     "data": {
      "text/plain": [
       "YEAR      int64\n",
       "MONTH     int64\n",
       "DATE      int64\n",
       "Mw        int64\n",
       "LAT      object\n",
       "LONG     object\n",
       "DEPTH     int64\n",
       "REF      object\n",
       "dtype: object"
      ]
     },
     "execution_count": 120,
     "metadata": {},
     "output_type": "execute_result"
    }
   ],
   "source": [
    "METAVAL = 43\n",
    "\n",
    "temp = []\n",
    "for val in data['Mw']:\n",
    "    sdot = 0\n",
    "    np = 0\n",
    "    for j in val:\n",
    "        if (j>='0' and j<='9'):\n",
    "            continue\n",
    "        elif (sdot == 0 and j == '.'):\n",
    "            sdot = 1\n",
    "        else:\n",
    "            np = 1\n",
    "            break;\n",
    "    nuval = 0\n",
    "    if np == 1:\n",
    "        nuval = 0\n",
    "    else:\n",
    "        value = round(float(val),1)\n",
    "        value = int(value*10)\n",
    "        nuval = value\n",
    "    if nuval>METAVAL:\n",
    "        nuval = 1\n",
    "    else:\n",
    "        nuval = 0\n",
    "    temp.append(nuval)\n",
    "data['Mw'] = pd.Series(temp)\n",
    "data.dtypes"
   ]
  },
  {
   "cell_type": "code",
   "execution_count": 121,
   "id": "sweet-division",
   "metadata": {},
   "outputs": [
    {
     "data": {
      "text/plain": [
       "YEAR     int64\n",
       "MONTH    int64\n",
       "DATE     int64\n",
       "Mw       int64\n",
       "LAT      int64\n",
       "LONG     int64\n",
       "DEPTH    int64\n",
       "REF      int64\n",
       "dtype: object"
      ]
     },
     "execution_count": 121,
     "metadata": {},
     "output_type": "execute_result"
    }
   ],
   "source": [
    "temp = []\n",
    "for val in data['LAT']:\n",
    "    sdot = 0\n",
    "    np = 0\n",
    "    for j in range(len(val)):\n",
    "        k = val[j]\n",
    "        if (k>='0' and k<='9'):\n",
    "            continue\n",
    "        elif (sdot == 0 and k == '.'):\n",
    "            sdot = 1\n",
    "        else:\n",
    "            np = 1\n",
    "            break;\n",
    "    curval = val[:j]\n",
    "    if len(curval) == 0:\n",
    "        temp.append(0)\n",
    "        continue\n",
    "    value = round(float(curval),1)\n",
    "    value = int(value*10)\n",
    "    temp.append(value)\n",
    "data['LAT'] = pd.Series(temp)\n",
    "temp = []\n",
    "for val in data['LONG']:\n",
    "    sdot = 0\n",
    "    np = 0\n",
    "    for j in range(len(val)):\n",
    "        k = val[j]\n",
    "        if (k>='0' and k<='9'):\n",
    "            continue\n",
    "        elif (sdot == 0 and k == '.'):\n",
    "            sdot = 1\n",
    "        else:\n",
    "            np = 1\n",
    "            break;\n",
    "    curval = val[:j]\n",
    "    if len(curval) == 0:\n",
    "        temp.append(0)\n",
    "        continue\n",
    "    value = round(float(curval),1)\n",
    "    value = int(value*10)\n",
    "    temp.append(value)\n",
    "data['LONG'] = pd.Series(temp)\n",
    "\n",
    "import json\n",
    "\n",
    "REFERERS = set(data['REF'])\n",
    "MAP_REF_TO_NUM = {}\n",
    "ctr = 0\n",
    "\n",
    "for i in REFERERS:\n",
    "    MAP_REF_TO_NUM[i] = ctr\n",
    "    ctr += 1\n",
    "\n",
    "with open('./data/referers.json','w') as fp:\n",
    "    json.dump(MAP_REF_TO_NUM, fp)\n",
    "    \n",
    "nuref = []\n",
    "for val in data['REF']:\n",
    "    nuref.append(MAP_REF_TO_NUM[val])\n",
    "data['REF'] = pd.Series(nuref)\n",
    "data.dtypes"
   ]
  },
  {
   "cell_type": "code",
   "execution_count": 122,
   "id": "prime-village",
   "metadata": {},
   "outputs": [
    {
     "data": {
      "text/html": [
       "<div>\n",
       "<style scoped>\n",
       "    .dataframe tbody tr th:only-of-type {\n",
       "        vertical-align: middle;\n",
       "    }\n",
       "\n",
       "    .dataframe tbody tr th {\n",
       "        vertical-align: top;\n",
       "    }\n",
       "\n",
       "    .dataframe thead th {\n",
       "        text-align: right;\n",
       "    }\n",
       "</style>\n",
       "<table border=\"1\" class=\"dataframe\">\n",
       "  <thead>\n",
       "    <tr style=\"text-align: right;\">\n",
       "      <th></th>\n",
       "      <th>YEAR</th>\n",
       "      <th>MONTH</th>\n",
       "      <th>DATE</th>\n",
       "      <th>Mw</th>\n",
       "      <th>LAT</th>\n",
       "      <th>LONG</th>\n",
       "      <th>DEPTH</th>\n",
       "      <th>REF</th>\n",
       "    </tr>\n",
       "  </thead>\n",
       "  <tbody>\n",
       "    <tr>\n",
       "      <th>0</th>\n",
       "      <td>-2474</td>\n",
       "      <td>0</td>\n",
       "      <td>0</td>\n",
       "      <td>1</td>\n",
       "      <td>70</td>\n",
       "      <td>20</td>\n",
       "      <td>0</td>\n",
       "      <td>3</td>\n",
       "    </tr>\n",
       "    <tr>\n",
       "      <th>1</th>\n",
       "      <td>-325</td>\n",
       "      <td>0</td>\n",
       "      <td>0</td>\n",
       "      <td>1</td>\n",
       "      <td>70</td>\n",
       "      <td>20</td>\n",
       "      <td>0</td>\n",
       "      <td>3</td>\n",
       "    </tr>\n",
       "    <tr>\n",
       "      <th>2</th>\n",
       "      <td>25</td>\n",
       "      <td>0</td>\n",
       "      <td>0</td>\n",
       "      <td>1</td>\n",
       "      <td>720</td>\n",
       "      <td>337</td>\n",
       "      <td>0</td>\n",
       "      <td>3</td>\n",
       "    </tr>\n",
       "    <tr>\n",
       "      <th>3</th>\n",
       "      <td>26</td>\n",
       "      <td>5</td>\n",
       "      <td>10</td>\n",
       "      <td>1</td>\n",
       "      <td>170</td>\n",
       "      <td>800</td>\n",
       "      <td>0</td>\n",
       "      <td>12</td>\n",
       "    </tr>\n",
       "    <tr>\n",
       "      <th>4</th>\n",
       "      <td>26</td>\n",
       "      <td>5</td>\n",
       "      <td>10</td>\n",
       "      <td>1</td>\n",
       "      <td>20</td>\n",
       "      <td>90</td>\n",
       "      <td>80</td>\n",
       "      <td>8</td>\n",
       "    </tr>\n",
       "    <tr>\n",
       "      <th>...</th>\n",
       "      <td>...</td>\n",
       "      <td>...</td>\n",
       "      <td>...</td>\n",
       "      <td>...</td>\n",
       "      <td>...</td>\n",
       "      <td>...</td>\n",
       "      <td>...</td>\n",
       "      <td>...</td>\n",
       "    </tr>\n",
       "    <tr>\n",
       "      <th>50480</th>\n",
       "      <td>2019</td>\n",
       "      <td>7</td>\n",
       "      <td>28</td>\n",
       "      <td>0</td>\n",
       "      <td>328</td>\n",
       "      <td>784</td>\n",
       "      <td>10</td>\n",
       "      <td>9</td>\n",
       "    </tr>\n",
       "    <tr>\n",
       "      <th>50481</th>\n",
       "      <td>2019</td>\n",
       "      <td>7</td>\n",
       "      <td>28</td>\n",
       "      <td>0</td>\n",
       "      <td>255</td>\n",
       "      <td>904</td>\n",
       "      <td>70</td>\n",
       "      <td>9</td>\n",
       "    </tr>\n",
       "    <tr>\n",
       "      <th>50482</th>\n",
       "      <td>2019</td>\n",
       "      <td>7</td>\n",
       "      <td>28</td>\n",
       "      <td>0</td>\n",
       "      <td>232</td>\n",
       "      <td>865</td>\n",
       "      <td>22</td>\n",
       "      <td>9</td>\n",
       "    </tr>\n",
       "    <tr>\n",
       "      <th>50483</th>\n",
       "      <td>2019</td>\n",
       "      <td>7</td>\n",
       "      <td>29</td>\n",
       "      <td>0</td>\n",
       "      <td>328</td>\n",
       "      <td>764</td>\n",
       "      <td>20</td>\n",
       "      <td>9</td>\n",
       "    </tr>\n",
       "    <tr>\n",
       "      <th>50484</th>\n",
       "      <td>2019</td>\n",
       "      <td>7</td>\n",
       "      <td>31</td>\n",
       "      <td>0</td>\n",
       "      <td>200</td>\n",
       "      <td>728</td>\n",
       "      <td>10</td>\n",
       "      <td>9</td>\n",
       "    </tr>\n",
       "  </tbody>\n",
       "</table>\n",
       "<p>50485 rows × 8 columns</p>\n",
       "</div>"
      ],
      "text/plain": [
       "       YEAR  MONTH  DATE  Mw  LAT  LONG  DEPTH  REF\n",
       "0     -2474      0     0   1   70    20      0    3\n",
       "1      -325      0     0   1   70    20      0    3\n",
       "2        25      0     0   1  720   337      0    3\n",
       "3        26      5    10   1  170   800      0   12\n",
       "4        26      5    10   1   20    90     80    8\n",
       "...     ...    ...   ...  ..  ...   ...    ...  ...\n",
       "50480  2019      7    28   0  328   784     10    9\n",
       "50481  2019      7    28   0  255   904     70    9\n",
       "50482  2019      7    28   0  232   865     22    9\n",
       "50483  2019      7    29   0  328   764     20    9\n",
       "50484  2019      7    31   0  200   728     10    9\n",
       "\n",
       "[50485 rows x 8 columns]"
      ]
     },
     "execution_count": 122,
     "metadata": {},
     "output_type": "execute_result"
    }
   ],
   "source": [
    "data"
   ]
  },
  {
   "cell_type": "code",
   "execution_count": 123,
   "id": "announced-atlanta",
   "metadata": {},
   "outputs": [],
   "source": [
    "data.to_csv('./data/preprocessed.csv')"
   ]
  },
  {
   "cell_type": "code",
   "execution_count": 124,
   "id": "impressed-second",
   "metadata": {},
   "outputs": [],
   "source": [
    "from sklearn.tree import DecisionTreeClassifier\n",
    "from sklearn.model_selection import train_test_split\n",
    "import joblib\n",
    "from sklearn.tree import export_graphviz\n",
    "\n",
    "X = data.drop(columns = 'Mw')\n",
    "Y = data['Mw']"
   ]
  },
  {
   "cell_type": "code",
   "execution_count": 125,
   "id": "latter-eclipse",
   "metadata": {},
   "outputs": [],
   "source": [
    "X_train, X_test, Y_train, Y_test = train_test_split(X, Y, test_size = 0.3,random_state = 1)"
   ]
  },
  {
   "cell_type": "code",
   "execution_count": 126,
   "id": "infectious-growth",
   "metadata": {},
   "outputs": [
    {
     "data": {
      "text/plain": [
       "DecisionTreeClassifier()"
      ]
     },
     "execution_count": 126,
     "metadata": {},
     "output_type": "execute_result"
    }
   ],
   "source": [
    "model_decision_tree = DecisionTreeClassifier()\n",
    "model_decision_tree.fit(X_train,Y_train)"
   ]
  },
  {
   "cell_type": "code",
   "execution_count": 127,
   "id": "spanish-corner",
   "metadata": {},
   "outputs": [
    {
     "data": {
      "text/plain": [
       "['./data_models/DecisionTree.joblib']"
      ]
     },
     "execution_count": 127,
     "metadata": {},
     "output_type": "execute_result"
    }
   ],
   "source": [
    "joblib.dump(model_decision_tree,'./data_models/DecisionTree.joblib')"
   ]
  },
  {
   "cell_type": "code",
   "execution_count": 128,
   "id": "voluntary-redhead",
   "metadata": {},
   "outputs": [],
   "source": [
    "Y_pred = model_decision_tree.predict(X_test)"
   ]
  },
  {
   "cell_type": "code",
   "execution_count": 129,
   "id": "accepting-country",
   "metadata": {},
   "outputs": [
    {
     "name": "stdout",
     "output_type": "stream",
     "text": [
      "0.6449887759144328\n",
      "0.6449887759144328\n"
     ]
    }
   ],
   "source": [
    "ctr = 0\n",
    "i = 0\n",
    "for true_value in Y_test:\n",
    "    predicted_value = Y_pred[i]\n",
    "    if predicted_value == true_value:\n",
    "        ctr+=1\n",
    "    i += 1\n",
    "tot = i\n",
    "accuracy = ctr/tot\n",
    "print(accuracy)\n",
    "score = accuracy_score(Y_test, Y_pred)\n",
    "print(score)"
   ]
  },
  {
   "cell_type": "code",
   "execution_count": 130,
   "id": "fatty-wealth",
   "metadata": {},
   "outputs": [
    {
     "data": {
      "text/plain": [
       "5083     1\n",
       "35775    1\n",
       "24243    0\n",
       "45091    1\n",
       "28253    0\n",
       "        ..\n",
       "17784    0\n",
       "14791    1\n",
       "249      0\n",
       "42922    1\n",
       "47444    1\n",
       "Name: Mw, Length: 15146, dtype: int64"
      ]
     },
     "execution_count": 130,
     "metadata": {},
     "output_type": "execute_result"
    }
   ],
   "source": [
    "Y_test"
   ]
  },
  {
   "cell_type": "code",
   "execution_count": 112,
   "id": "changed-brooks",
   "metadata": {},
   "outputs": [
    {
     "data": {
      "text/plain": [
       "array([44, 43, 39, ..., 42, 49, 44])"
      ]
     },
     "execution_count": 112,
     "metadata": {},
     "output_type": "execute_result"
    }
   ],
   "source": [
    "Y_pred"
   ]
  },
  {
   "cell_type": "code",
   "execution_count": null,
   "id": "lucky-velvet",
   "metadata": {},
   "outputs": [],
   "source": []
  }
 ],
 "metadata": {
  "kernelspec": {
   "display_name": "Python 3",
   "language": "python",
   "name": "python3"
  },
  "language_info": {
   "codemirror_mode": {
    "name": "ipython",
    "version": 3
   },
   "file_extension": ".py",
   "mimetype": "text/x-python",
   "name": "python",
   "nbconvert_exporter": "python",
   "pygments_lexer": "ipython3",
   "version": "3.8.10"
  }
 },
 "nbformat": 4,
 "nbformat_minor": 5
}
